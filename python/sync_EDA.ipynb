{
 "cells": [
  {
   "cell_type": "code",
   "execution_count": 6,
   "metadata": {},
   "outputs": [
    {
     "name": "stdout",
     "output_type": "stream",
     "text": [
      "       peak   ECG  smoothed\n",
      "0         0  5520 -0.004052\n",
      "1         0  5518 -0.000369\n",
      "2         0  5516 -0.000369\n",
      "3         0  5504 -0.002218\n",
      "4         0  5572  0.012593\n",
      "...     ...   ...       ...\n",
      "39895     0  5620 -0.003257\n",
      "39896     0  5660  0.007236\n",
      "39897     0  5538 -0.022049\n",
      "39898     0  5438 -0.018074\n",
      "39899     0  5446  0.001447\n",
      "\n",
      "[39900 rows x 3 columns]\n"
     ]
    }
   ],
   "source": [
    "import numpy as np\n",
    "import pandas as pd\n",
    "\n",
    "files = [f\"X1_240501\\T2p2\\ECG_c{i}.txt\" for i in [1,2,3]]\n",
    "\n",
    "def read_numpy_array_from_file(file_path):\n",
    "    try:\n",
    "        data = pd.read_csv(file_path, sep=\"\\t\", comment='#', names=['peak', 'ECG', 'smoothed'])\n",
    "        return data\n",
    "    except Exception as e:\n",
    "        print(f\"Error reading the numpy array from the file: {e}\")\n",
    "        return None\n",
    "\n",
    "reading_dfs = [read_numpy_array_from_file(files[i-1]) for i in [1,2,3]]\n",
    "print(reading_dfs[0])\n"
   ]
  },
  {
   "cell_type": "code",
   "execution_count": null,
   "metadata": {},
   "outputs": [],
   "source": []
  }
 ],
 "metadata": {
  "kernelspec": {
   "display_name": ".venv",
   "language": "python",
   "name": "python3"
  },
  "language_info": {
   "codemirror_mode": {
    "name": "ipython",
    "version": 3
   },
   "file_extension": ".py",
   "mimetype": "text/x-python",
   "name": "python",
   "nbconvert_exporter": "python",
   "pygments_lexer": "ipython3",
   "version": "3.10.2"
  }
 },
 "nbformat": 4,
 "nbformat_minor": 2
}
